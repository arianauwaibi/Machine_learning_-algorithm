{
 "cells": [
  {
   "cell_type": "code",
   "execution_count": 1,
   "metadata": {},
   "outputs": [],
   "source": [
    "#First we gentrate syntheis to pratice with \n",
    "\n",
    "import matplotlib.pyplot as plt \n",
    "from sklearn.datasets import make_blobs\n",
    "from sklearn.cluster import KMeans\n",
    "from sklearn. preprocessing import StandardScaler\n",
    "from sklearn.metrics import silhouette_score"
   ]
  },
  {
   "cell_type": "code",
   "execution_count": 5,
   "metadata": {},
   "outputs": [],
   "source": [
    "#generate the data using make_blobs(), a convience function in sckit-learn to synthic cluster \n",
    "# Center are the sample as clusters\n",
    "\n",
    "features, true_labels = make_blobs(n_samples= 200, centers= 5, cluster_std=2.75, random_state= 42)\n",
    "#random_state makes the same random number each time "
   ]
  },
  {
   "cell_type": "code",
   "execution_count": 7,
   "metadata": {},
   "outputs": [
    {
     "name": "stdout",
     "output_type": "stream",
     "text": [
      "[[-10.18044231  -7.79998799]\n",
      " [ -2.26981819   8.19201591]\n",
      " [ -1.9599317    0.29092618]\n",
      " [ -6.5684328    9.56067441]\n",
      " [  6.07521814   2.78987754]]\n",
      "[2 0 4 3 1]\n",
      "(200, 2)\n"
     ]
    }
   ],
   "source": [
    "#Printing five elements for each of the variable returned. \n",
    "\n",
    "print(features[:5])\n",
    "print(true_labels[:5])\n",
    "\n",
    " \n",
    "#  The entire row is a whole sample\n",
    "\n",
    "#features call the catergories of your data (represented per columns)\n",
    "# The five rows explain each sample \n",
    "#the last one exaplins which catergories the sample belongs to \n",
    "\n",
    "\n",
    "\n",
    "# This data has 200 samples and 2 features \n",
    "print(features.shape)\n",
    "\n"
   ]
  }
 ],
 "metadata": {
  "interpreter": {
   "hash": "aee8b7b246df8f9039afb4144a1f6fd8d2ca17a180786b69acc140d282b71a49"
  },
  "kernelspec": {
   "display_name": "Python 3.10.1 64-bit",
   "language": "python",
   "name": "python3"
  },
  "language_info": {
   "codemirror_mode": {
    "name": "ipython",
    "version": 3
   },
   "file_extension": ".py",
   "mimetype": "text/x-python",
   "name": "python",
   "nbconvert_exporter": "python",
   "pygments_lexer": "ipython3",
   "version": "3.10.1"
  },
  "orig_nbformat": 4
 },
 "nbformat": 4,
 "nbformat_minor": 2
}
