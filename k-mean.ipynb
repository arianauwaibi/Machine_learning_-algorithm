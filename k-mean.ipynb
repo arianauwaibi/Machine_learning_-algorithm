{
 "cells": [
  {
   "cell_type": "code",
   "execution_count": 23,
   "metadata": {},
   "outputs": [],
   "source": [
    "#First we gentrate syntheis to pratice with \n",
    "\n",
    "import matplotlib.pyplot as plt \n",
    "from sklearn.datasets import make_blobs\n",
    "from sklearn.cluster import KMeans\n",
    "from sklearn. preprocessing import StandardScaler\n",
    "from sklearn.metrics import silhouette_score"
   ]
  },
  {
   "cell_type": "markdown",
   "metadata": {},
   "source": [
    "### Unsupervised Models\n",
    "\n",
    "Features: A parameter of your data \n",
    "Samples \n",
    "Labels"
   ]
  },
  {
   "cell_type": "code",
   "execution_count": 24,
   "metadata": {},
   "outputs": [],
   "source": [
    "#generate the data using make_blobs(), a convience function in sckit-learn to synthic cluster \n",
    "# Center are the sample as clusters\n",
    "\n",
    "features, true_labels = make_blobs(n_samples= 200, centers= 5, cluster_std=2.75, random_state= 42)\n",
    "#random_state makes the same random number each time "
   ]
  },
  {
   "cell_type": "code",
   "execution_count": 25,
   "metadata": {},
   "outputs": [
    {
     "name": "stdout",
     "output_type": "stream",
     "text": [
      "[[-10.18044231  -7.79998799]\n",
      " [ -2.26981819   8.19201591]\n",
      " [ -1.9599317    0.29092618]\n",
      " [ -6.5684328    9.56067441]\n",
      " [  6.07521814   2.78987754]]\n",
      "[2 0 4 3 1]\n",
      "(200, 2)\n"
     ]
    }
   ],
   "source": [
    "#Printing five elements for each of the variable returned. \n",
    "\n",
    "print(features[:5])\n",
    "print(true_labels[:5])\n",
    "\n",
    " \n",
    "#  The entire row is a whole sample\n",
    "\n",
    "#features call the catergories of your data (represented per columns)\n",
    "# The five rows explain each sample \n",
    "#the last one exaplins which catergories the sample belongs to \n",
    "\n",
    "\n",
    "\n",
    "# This data has 200 samples and 2 features \n",
    "print(features.shape)\n",
    "\n"
   ]
  },
  {
   "cell_type": "code",
   "execution_count": 26,
   "metadata": {},
   "outputs": [
    {
     "name": "stdout",
     "output_type": "stream",
     "text": [
      "[[-1.40387979 -1.86829675]\n",
      " [ 0.01846291  0.84844414]\n",
      " [ 0.07418099 -0.49380251]\n",
      " [-0.75443478  1.08095349]\n",
      " [ 1.51891361 -0.06927764]]\n"
     ]
    }
   ],
   "source": [
    "#The values for all features must be transformed to the same scale \n",
    "# The process of transformng numerical features to use the same scale is known as features scaling or normalization.\n",
    "\n",
    "scaler = StandardScaler()\n",
    "scaled_features = scaler.fit_transform(features)\n",
    "print(scaled_features[:5])\n",
    "\n",
    "#the values change to 1 0 -1 based on standard deviation "
   ]
  },
  {
   "cell_type": "code",
   "execution_count": 27,
   "metadata": {},
   "outputs": [],
   "source": [
    "# Initiate the KMean Class \n",
    "\n",
    "Kmeans = KMeans(init='random',n_clusters=5, n_init=10,max_iter=300, random_state=42)\n",
    "\n",
    "# Considered setting up the model \n"
   ]
  },
  {
   "cell_type": "code",
   "execution_count": 28,
   "metadata": {},
   "outputs": [
    {
     "data": {
      "text/plain": [
       "KMeans(init='random', n_clusters=5, random_state=42)"
      ]
     },
     "execution_count": 28,
     "metadata": {},
     "output_type": "execute_result"
    }
   ],
   "source": [
    "# The Next step is to fit/train the model with the scaled data\n",
    "\n",
    "Kmeans.fit(scaled_features)\n"
   ]
  },
  {
   "cell_type": "code",
   "execution_count": 29,
   "metadata": {},
   "outputs": [
    {
     "data": {
      "text/plain": [
       "60.40343523831504"
      ]
     },
     "execution_count": 29,
     "metadata": {},
     "output_type": "execute_result"
    }
   ],
   "source": [
    "#Statistitcs from the intialization run with the lowest SSE are avaliable as atribute of kmeans aftering calling function intertia_\n",
    "\n",
    "Kmeans.inertia_\n",
    "\n",
    "\n",
    "#This tells use how the model created will work \n",
    "#Ideally it is 10 to below"
   ]
  },
  {
   "cell_type": "code",
   "execution_count": 30,
   "metadata": {},
   "outputs": [
    {
     "name": "stdout",
     "output_type": "stream",
     "text": [
      "[1 3 2 0 4]\n",
      "[2 0 4 3 1]\n"
     ]
    }
   ],
   "source": [
    "# The clusters assignments are stores a one dimensial Numpy array \n",
    "\n",
    "print(Kmeans.labels_[:5])\n",
    "print(true_labels[:5])"
   ]
  },
  {
   "cell_type": "code",
   "execution_count": 31,
   "metadata": {},
   "outputs": [],
   "source": [
    "#Running the model using different configuration \n",
    "\n",
    "kmean_kwarg = {\"init\":\"random\",\"n_init\":10,\"max_iter\":300,\"random_state\":42}\n",
    "\n",
    "#create empty list to old the SSE for each k\n",
    "number_of_cluster= 20\n",
    "sse= []\n",
    "for k in range(1,number_of_cluster):\n",
    "    Kmeans = KMeans(n_clusters=k, **kmean_kwarg)\n",
    "    Kmeans.fit(scaled_features)\n",
    "    sse.append(Kmeans.inertia_)# adds new values \n",
    "\n",
    "\n",
    "#Centers: the centeral value  also the number of clusters the  central value that the clusters recruit other data \n",
    "#SSE: sum of Squared erroe\n"
   ]
  },
  {
   "cell_type": "code",
   "execution_count": 34,
   "metadata": {},
   "outputs": [
    {
     "data": {
      "text/plain": [
       "Text(0, 0.5, 'SSE')"
      ]
     },
     "execution_count": 34,
     "metadata": {},
     "output_type": "execute_result"
    },
    {
     "data": {
      "image/png": "[encoded data removed]",
      "text/plain": [
       "<Figure size 432x288 with 1 Axes>"
      ]
     },
     "metadata": {},
     "output_type": "display_data"
    }
   ],
   "source": [
    "plt.style.use(\"fivethirtyeight\")\n",
    "plt.plot(range(1,number_of_cluster),sse)\n",
    "plt.xticks(range(1,number_of_cluster))\n",
    "plt.xlabel(\"Number of Clusters\")\n",
    "plt.ylabel(\"SSE\")\n"
   ]
  },
  {
   "cell_type": "markdown",
   "metadata": {},
   "source": [
    "### Nearest Neighbor "
   ]
  }
 ],
 "metadata": {
  "interpreter": {
   "hash": "aee8b7b246df8f9039afb4144a1f6fd8d2ca17a180786b69acc140d282b71a49"
  },
  "kernelspec": {
   "display_name": "Python 3.10.1 64-bit",
   "language": "python",
   "name": "python3"
  },
  "language_info": {
   "codemirror_mode": {
    "name": "ipython",
    "version": 3
   },
   "file_extension": ".py",
   "mimetype": "text/x-python",
   "name": "python",
   "nbconvert_exporter": "python",
   "pygments_lexer": "ipython3",
   "version": "3.10.1"
  },
  "orig_nbformat": 4
 },
 "nbformat": 4,
 "nbformat_minor": 2
}
